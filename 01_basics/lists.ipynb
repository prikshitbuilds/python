{
 "cells": [
  {
   "cell_type": "code",
   "execution_count": 6,
   "metadata": {},
   "outputs": [
    {
     "name": "stdout",
     "output_type": "stream",
     "text": [
      "['Black', 'Green', 'Oolong', 'White']\n",
      "White\n",
      "['Oolong', 'White']\n",
      "['Green']\n",
      "['Black', 'Masala', 'Oolong', 'White']\n"
     ]
    }
   ],
   "source": [
    "tea_varities=[\"Black\",\"Green\",\"Oolong\",\"White\"]\n",
    "print(tea_varities)\n",
    "print(tea_varities[-1]) #white\n",
    "print(tea_varities[2:])\n",
    "\n",
    "print(tea_varities[1:2])\n",
    "\n",
    "# each character will get insert as array 'M' 'A' 'S' 'A' 'L' 'A'\n",
    " #tea_varities[1:2]=\"Masala\"\n",
    "\n",
    "tea_varities[1:2]=[\"Masala\"]\n",
    "print(tea_varities)\n",
    "\n",
    "\n",
    "\n",
    "\n",
    "\n"
   ]
  },
  {
   "cell_type": "code",
   "execution_count": 16,
   "metadata": {},
   "outputs": [
    {
     "data": {
      "text/plain": [
       "['Black', 'test', 'test', 'test', 'test', 'Masala', 'Oolong', 'White']"
      ]
     },
     "execution_count": 16,
     "metadata": {},
     "output_type": "execute_result"
    }
   ],
   "source": [
    "tea_varities[1:1] # empty array []\n",
    "\n",
    "\n",
    "\n",
    "\n",
    "tea_varities\n",
    "# ['Black', 'test', 'test', 'test', 'test', 'Masala', 'Oolong', 'White']\n",
    "\n",
    "\n"
   ]
  },
  {
   "cell_type": "code",
   "execution_count": null,
   "metadata": {},
   "outputs": [],
   "source": []
  },
  {
   "cell_type": "code",
   "execution_count": 13,
   "metadata": {},
   "outputs": [
    {
     "name": "stdout",
     "output_type": "stream",
     "text": [
      "['Black', 'test', 'test', 'Masala', 'Oolong', 'White']\n"
     ]
    }
   ],
   "source": [
    "tea_varities[1:3]=[]\n",
    "print(tea_varities)"
   ]
  },
  {
   "cell_type": "code",
   "execution_count": 18,
   "metadata": {},
   "outputs": [
    {
     "data": {
      "text/plain": [
       "['Black', 'green', 'Masala', 'White']"
      ]
     },
     "execution_count": 18,
     "metadata": {},
     "output_type": "execute_result"
    }
   ],
   "source": [
    "tea_varities=['Black','green','Masala','White']\n",
    "tea_varities"
   ]
  },
  {
   "cell_type": "code",
   "execution_count": 23,
   "metadata": {},
   "outputs": [
    {
     "name": "stdout",
     "output_type": "stream",
     "text": [
      "Black-green-Masala-White-Oolong-I Have Oolong tea\n"
     ]
    }
   ],
   "source": [
    "for tea in tea_varities:\n",
    "    print(tea, end=\"-\")\n",
    "\n",
    "\n",
    "\n",
    "tea_varities.append(\"Oolong\")\n",
    "tea_varities\n",
    "\n",
    "if \"Oolong\" in tea_varities:\n",
    "    print(\"I Have Oolong tea\")"
   ]
  },
  {
   "cell_type": "code",
   "execution_count": 32,
   "metadata": {},
   "outputs": [
    {
     "data": {
      "text/plain": [
       "['Black', 'Masala', 'White']"
      ]
     },
     "execution_count": 32,
     "metadata": {},
     "output_type": "execute_result"
    }
   ],
   "source": [
    "tea_varities=['Black', 'green', 'Masala', 'White']\n",
    "\n",
    "# pop()-> return and last eel and delete\n",
    "tea_varities.remove('green')\n",
    "tea_varities"
   ]
  },
  {
   "cell_type": "code",
   "execution_count": 33,
   "metadata": {},
   "outputs": [
    {
     "name": "stdout",
     "output_type": "stream",
     "text": [
      "['Black', 'green', 'Masala', 'White']\n"
     ]
    }
   ],
   "source": [
    "tea_varities.insert(1,'green')\n",
    "print(tea_varities)"
   ]
  },
  {
   "cell_type": "code",
   "execution_count": 35,
   "metadata": {},
   "outputs": [
    {
     "name": "stdout",
     "output_type": "stream",
     "text": [
      "['Black', 'green', 'Masala', 'White', 'Lemon']\n",
      "['Black', 'green', 'Masala', 'White']\n"
     ]
    }
   ],
   "source": [
    "# memroy me alag refrence alg alag\n",
    "tea_varities_copy=tea_varities.copy()\n",
    "tea_varities_copy.append('Lemon')\n",
    "print(tea_varities_copy)\n",
    "print(tea_varities)"
   ]
  },
  {
   "cell_type": "code",
   "execution_count": 38,
   "metadata": {},
   "outputs": [
    {
     "data": {
      "text/plain": [
       "[0, 1, 8, 27, 64]"
      ]
     },
     "execution_count": 38,
     "metadata": {},
     "output_type": "execute_result"
    }
   ],
   "source": [
    "squared_nums=[x**2 for x in range(10)] \n",
    "squared_nums\n",
    "\n",
    "\n",
    "cube_nums=[y**3 for y in range(5)]\n",
    "cube_nums\n"
   ]
  },
  {
   "cell_type": "code",
   "execution_count": null,
   "metadata": {},
   "outputs": [],
   "source": []
  }
 ],
 "metadata": {
  "kernelspec": {
   "display_name": "Python 3",
   "language": "python",
   "name": "python3"
  },
  "language_info": {
   "codemirror_mode": {
    "name": "ipython",
    "version": 3
   },
   "file_extension": ".py",
   "mimetype": "text/x-python",
   "name": "python",
   "nbconvert_exporter": "python",
   "pygments_lexer": "ipython3",
   "version": "3.13.6"
  }
 },
 "nbformat": 4,
 "nbformat_minor": 2
}
