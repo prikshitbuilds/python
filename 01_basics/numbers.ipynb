{
 "cells": [
  {
   "cell_type": "code",
   "execution_count": 24,
   "metadata": {},
   "outputs": [
    {
     "name": "stdout",
     "output_type": "stream",
     "text": [
      "9\n",
      "43.33\n",
      "2\n",
      "40.0\n",
      "chaicode\n",
      "2 3 4\n",
      "'chai'\n",
      "chai\n"
     ]
    }
   ],
   "source": [
    "x=2\n",
    "y=3\n",
    "z=4\n",
    "print(x+y+z)\n",
    "\n",
    "print(41+2.33)\n",
    "# print('hitesh'+3) error\n",
    "print(int(1+1.2))\n",
    "\n",
    "print(float(40)) #40.0\n",
    "\n",
    "print('chai' + 'code') #chaicode\n",
    "print(x,y,z)\n",
    "\n",
    "x,y,z # (2,3,4)\n",
    "y%2 #1\n",
    "\n",
    "z ** 2 #16 power\n",
    "\n",
    "#100**2\n",
    "#2**100\n",
    "\n",
    "result = 1/3.0\n",
    "result\n",
    "\n"
   ]
  },
  {
   "cell_type": "code",
   "execution_count": 27,
   "metadata": {},
   "outputs": [
    {
     "name": "stdout",
     "output_type": "stream",
     "text": [
      "chai\n"
     ]
    }
   ],
   "source": [
    "x1='chai'\n",
    "repr(x1)\n",
    "str(x1)\n",
    "print(x1)"
   ]
  },
  {
   "cell_type": "code",
   "execution_count": 35,
   "metadata": {},
   "outputs": [
    {
     "data": {
      "text/plain": [
       "True"
      ]
     },
     "execution_count": 35,
     "metadata": {},
     "output_type": "execute_result"
    }
   ],
   "source": [
    "5.0 == 5.00 #true\n",
    "5==5.0 #true\n",
    "\n",
    "5!=4 # true\n",
    "\n",
    "a = 1\n",
    "b = 2\n",
    "c=3\n",
    "\n",
    "a < b and b < c # true dono true hona chhaye"
   ]
  },
  {
   "cell_type": "code",
   "execution_count": 37,
   "metadata": {},
   "outputs": [
    {
     "data": {
      "text/plain": [
       "False"
      ]
     },
     "execution_count": 37,
     "metadata": {},
     "output_type": "execute_result"
    }
   ],
   "source": [
    "1==2 < 3\n",
    "\n",
    "1 == 2 and 2 < 3"
   ]
  },
  {
   "cell_type": "code",
   "execution_count": 43,
   "metadata": {},
   "outputs": [
    {
     "name": "stdout",
     "output_type": "stream",
     "text": [
      "4\n"
     ]
    }
   ],
   "source": [
    "import math\n",
    "math.floor(3.7) #3\n",
    "math.floor(-3.8) #-4\n",
    "\n",
    "print(math.trunc(4.8)) #4 go towards 0\n",
    "\n",
    "\n"
   ]
  },
  {
   "cell_type": "code",
   "execution_count": 46,
   "metadata": {},
   "outputs": [
    {
     "data": {
      "text/plain": [
       "(6+3j)"
      ]
     },
     "execution_count": 46,
     "metadata": {},
     "output_type": "execute_result"
    }
   ],
   "source": [
    "2 + 1j # complex number\n",
    "(2+1j)* 3 # iota number"
   ]
  },
  {
   "cell_type": "code",
   "execution_count": 57,
   "metadata": {},
   "outputs": [
    {
     "name": "stdout",
     "output_type": "stream",
     "text": [
      "16\n",
      "255\n",
      "8\n",
      "1000 2\n",
      "4\n"
     ]
    }
   ],
   "source": [
    "print(0o20) #octal iteral base pow 8\n",
    "print(0xFF)  # hexal value\n",
    "print(0b1000) #binary value\n",
    "\n",
    "#Get Octal value\n",
    "oct(64)\n",
    "\n",
    "#Hex Value\n",
    "hex(64)\n",
    "\n",
    "int(3.14)\n",
    "int('64',8)\n",
    "\n",
    "print('1000',2)\n",
    "\n",
    "\n",
    "#LEFT SHIFT\n",
    "x2=1\n",
    "print(x2<< 2) # 4\n",
    "\n",
    "print(x1 )"
   ]
  },
  {
   "cell_type": "code",
   "execution_count": 83,
   "metadata": {},
   "outputs": [
    {
     "name": "stdout",
     "output_type": "stream",
     "text": [
      "10\n"
     ]
    },
    {
     "data": {
      "text/plain": [
       "['ginger', 'lemon', 'masala', 'mint']"
      ]
     },
     "execution_count": 83,
     "metadata": {},
     "output_type": "execute_result"
    }
   ],
   "source": [
    "import random\n",
    "random.random() # 0 to 1  \n",
    "print(random.randint(1,10))\n",
    "\n",
    "l1=['lemon','masala','ginger','mint']\n",
    "random.choice(l1)\n",
    "\n",
    "# shuffle the things\n",
    "random.shuffle(l1)\n",
    "l1\n",
    "\n"
   ]
  },
  {
   "cell_type": "code",
   "execution_count": 85,
   "metadata": {},
   "outputs": [
    {
     "name": "stdout",
     "output_type": "stream",
     "text": [
      "5.551115123125783e-17\n"
     ]
    }
   ],
   "source": [
    "0.1 + 0.1 + 0.1 + 0.4\n",
    "\n",
    "print(0.1+0.1+0.1 - 0.3)"
   ]
  },
  {
   "cell_type": "code",
   "execution_count": 88,
   "metadata": {},
   "outputs": [
    {
     "name": "stdout",
     "output_type": "stream",
     "text": [
      "5.551115123125783e-17\n"
     ]
    },
    {
     "data": {
      "text/plain": [
       "Decimal('0.0')"
      ]
     },
     "execution_count": 88,
     "metadata": {},
     "output_type": "execute_result"
    }
   ],
   "source": [
    "#getting error\n",
    "print(0.1+0.1+0.1 - 0.3)\n",
    "from decimal import Decimal\n",
    "Decimal('0.1')+ Decimal('0.1')+Decimal('0.1') - Decimal('0.3')\n"
   ]
  },
  {
   "cell_type": "code",
   "execution_count": 89,
   "metadata": {},
   "outputs": [
    {
     "data": {
      "text/plain": [
       "Fraction(2, 7)"
      ]
     },
     "execution_count": 89,
     "metadata": {},
     "output_type": "execute_result"
    }
   ],
   "source": [
    "from fractions import Fraction\n",
    "myFra = Fraction(2,7)\n",
    "myFra"
   ]
  },
  {
   "cell_type": "code",
   "execution_count": 91,
   "metadata": {},
   "outputs": [
    {
     "data": {
      "text/plain": [
       "{1, 2, 3, 4, 7}"
      ]
     },
     "execution_count": 91,
     "metadata": {},
     "output_type": "execute_result"
    }
   ],
   "source": [
    "setone = {1,2,3,4}\n",
    "setone & {1,3} # intersection\n",
    "setone | {1,3,7} #union\n",
    "\n",
    "# denote set\n",
    "set()"
   ]
  },
  {
   "cell_type": "code",
   "execution_count": 44,
   "metadata": {},
   "outputs": [
    {
     "data": {
      "text/plain": [
       "10000000000000000000000000"
      ]
     },
     "execution_count": 44,
     "metadata": {},
     "output_type": "execute_result"
    }
   ],
   "source": [
    "9999999999999999999999999 + 1\n"
   ]
  }
 ],
 "metadata": {
  "kernelspec": {
   "display_name": "Python 3",
   "language": "python",
   "name": "python3"
  },
  "language_info": {
   "codemirror_mode": {
    "name": "ipython",
    "version": 3
   },
   "file_extension": ".py",
   "mimetype": "text/x-python",
   "name": "python",
   "nbconvert_exporter": "python",
   "pygments_lexer": "ipython3",
   "version": "3.13.6"
  }
 },
 "nbformat": 4,
 "nbformat_minor": 2
}
