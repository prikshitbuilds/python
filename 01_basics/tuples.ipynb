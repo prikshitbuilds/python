{
 "cells": [
  {
   "cell_type": "code",
   "execution_count": 4,
   "metadata": {},
   "outputs": [
    {
     "name": "stdout",
     "output_type": "stream",
     "text": [
      "('Black', 'Green', 'Oolong')\n",
      "Black\n",
      "Oolong\n",
      "('Green', 'Oolong')\n"
     ]
    },
    {
     "ename": "TypeError",
     "evalue": "'tuple' object does not support item assignment",
     "output_type": "error",
     "traceback": [
      "\u001b[31m---------------------------------------------------------------------------\u001b[39m",
      "\u001b[31mTypeError\u001b[39m                                 Traceback (most recent call last)",
      "\u001b[36mCell\u001b[39m\u001b[36m \u001b[39m\u001b[32mIn[4]\u001b[39m\u001b[32m, line 11\u001b[39m\n\u001b[32m      8\u001b[39m \u001b[38;5;66;03m#Slicing dicing\u001b[39;00m\n\u001b[32m      9\u001b[39m \u001b[38;5;28mprint\u001b[39m(tea_types[\u001b[32m1\u001b[39m:])\n\u001b[32m---> \u001b[39m\u001b[32m11\u001b[39m \u001b[43mtea_types\u001b[49m\u001b[43m[\u001b[49m\u001b[32;43m0\u001b[39;49m\u001b[43m]\u001b[49m=\u001b[33m\"\u001b[39m\u001b[33mbawa\u001b[39m\u001b[33m\"\u001b[39m\n",
      "\u001b[31mTypeError\u001b[39m: 'tuple' object does not support item assignment"
     ]
    }
   ],
   "source": [
    "# Tuple -> Immutable\n",
    "\n",
    "tea_types= (\"Black\",\"Green\",\"Oolong\")\n",
    "print(tea_types)\n",
    "print(tea_types[0])\n",
    "print(tea_types[-1])\n",
    "\n",
    "#Slicing dicing\n",
    "print(tea_types[1:])\n",
    "#error\n",
    "tea_types[0]=\"bawa\""
   ]
  },
  {
   "cell_type": "code",
   "execution_count": 7,
   "metadata": {},
   "outputs": [
    {
     "name": "stdout",
     "output_type": "stream",
     "text": [
      "('Herbal', 'Earl Grey', 'Black', 'Green', 'Oolong')\n",
      "I have Green Tea\n"
     ]
    }
   ],
   "source": [
    "more_tea=(\"Herbal\",\"Earl Grey\")\n",
    "all_tea = more_tea + tea_types\n",
    "print(all_tea)\n",
    "\n",
    "if \"Green\" in all_tea:\n",
    "    print(\"I have Green Tea\")"
   ]
  },
  {
   "cell_type": "code",
   "execution_count": 9,
   "metadata": {},
   "outputs": [
    {
     "name": "stdout",
     "output_type": "stream",
     "text": [
      "2\n"
     ]
    }
   ],
   "source": [
    "more_tea=(\"Herbal\",\"Early\",\"Herbal\")\n",
    "print(more_tea.count(\"Herbal\")) # 2"
   ]
  },
  {
   "cell_type": "code",
   "execution_count": 12,
   "metadata": {},
   "outputs": [
    {
     "data": {
      "text/plain": [
       "'Black'"
      ]
     },
     "execution_count": 12,
     "metadata": {},
     "output_type": "execute_result"
    }
   ],
   "source": [
    "tea_types\n",
    "(black,green,Oolong) = tea_types\n",
    "black"
   ]
  },
  {
   "cell_type": "code",
   "execution_count": 13,
   "metadata": {},
   "outputs": [
    {
     "data": {
      "text/plain": [
       "tuple"
      ]
     },
     "execution_count": 13,
     "metadata": {},
     "output_type": "execute_result"
    }
   ],
   "source": [
    "type(tea_types) # tuple\n",
    "\n"
   ]
  },
  {
   "cell_type": "code",
   "execution_count": null,
   "metadata": {},
   "outputs": [],
   "source": [
    "#Nested Tuples\n",
    "(\"\",(1,2,3),\"\")\n",
    "\n"
   ]
  }
 ],
 "metadata": {
  "kernelspec": {
   "display_name": "Python 3",
   "language": "python",
   "name": "python3"
  },
  "language_info": {
   "codemirror_mode": {
    "name": "ipython",
    "version": 3
   },
   "file_extension": ".py",
   "mimetype": "text/x-python",
   "name": "python",
   "nbconvert_exporter": "python",
   "pygments_lexer": "ipython3",
   "version": "3.13.6"
  }
 },
 "nbformat": 4,
 "nbformat_minor": 2
}
