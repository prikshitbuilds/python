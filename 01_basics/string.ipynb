{
 "cells": [
  {
   "cell_type": "code",
   "execution_count": 11,
   "metadata": {},
   "outputs": [
    {
     "name": "stdout",
     "output_type": "stream",
     "text": [
      "M\n",
      "Masala\n",
      "i\n",
      "0123456789\n",
      "3456789\n",
      "036\n",
      "Masala Chai\n"
     ]
    }
   ],
   "source": [
    "\"\"\"\"\"\"\n",
    "chai=\"Masala Chai\"\n",
    "first_char= chai[0]\n",
    "print(first_char)\n",
    "\n",
    "slice_chai = chai[0:6]\n",
    "print(slice_chai) #Masala\n",
    "\n",
    "print(chai[-1]) #i\n",
    "\n",
    "num_list=\"0123456789\"\n",
    "print(num_list[:]) # all num_list\n",
    "\n",
    "print(num_list[3:]) #3456789\n",
    "\n",
    "num_list[:7] #'0123456'\n",
    "\n",
    "# 3rd variable for hoping\n",
    "num_list[0:7:2] # 2 for hoping '0246'\n",
    "\n",
    "\n",
    "print(num_list[0:7:3]) #036\n",
    "\n",
    "\n",
    "print(chai)\n",
    "\n",
    "\n",
    "\n"
   ]
  },
  {
   "cell_type": "code",
   "execution_count": 17,
   "metadata": {},
   "outputs": [
    {
     "name": "stdout",
     "output_type": "stream",
     "text": [
      "lemon chai\n",
      "LEMON CHAI\n",
      "Masala Chai\n",
      "Ginger Chai\n",
      "Lemon Chai\n"
     ]
    }
   ],
   "source": [
    "# Methods \n",
    "print(chai.lower())\n",
    "print(chai.upper())\n",
    "\n",
    "chai =\"   Masala Chai    \"\n",
    "print(chai.strip()) #extra space uda deta\n",
    "\n",
    "chai=\"Lemon Chai\"\n",
    "print(chai.replace(\"Lemon\",\"Ginger\")) #ginger chai\n",
    "\n",
    "print(chai) #Lemon wont change\n",
    "\n",
    "\n",
    "\n",
    "\n"
   ]
  },
  {
   "cell_type": "code",
   "execution_count": 18,
   "metadata": {},
   "outputs": [
    {
     "name": "stdout",
     "output_type": "stream",
     "text": [
      "['Lemon', 'Ginger', 'Masala', 'Mint']\n"
     ]
    }
   ],
   "source": [
    "#String to list\n",
    "chai =\"Lemon, Ginger, Masala, Mint\"\n",
    "\n",
    "print(chai.split(\", \"))\n",
    "# ['Lemon', 'Ginger', 'Masala', 'Mint']\n",
    "\n"
   ]
  },
  {
   "cell_type": "code",
   "execution_count": 21,
   "metadata": {},
   "outputs": [
    {
     "name": "stdout",
     "output_type": "stream",
     "text": [
      "7\n",
      "3\n"
     ]
    }
   ],
   "source": [
    "chai =\"Masala Chai\"\n",
    "print(chai.find(\"Chai\")) # 7 -> 7 poisiton se mil jaegi chai\n",
    "\n",
    "chai =\"Masala chai chai chai\"\n",
    "print(chai.count('chai')) #3"
   ]
  },
  {
   "cell_type": "code",
   "execution_count": 23,
   "metadata": {},
   "outputs": [
    {
     "name": "stdout",
     "output_type": "stream",
     "text": [
      "I ordered {} cups of {} chai\n",
      "I ordered 2 cups of Masala chai\n"
     ]
    }
   ],
   "source": [
    "chai_type=\"Masala\"\n",
    "quantity=2\n",
    "order =\"I ordered {} cups of {} chai\"\n",
    "print(order)\n",
    "# I ordered {} cups of {} chai\n",
    "\n",
    "print(order.format(quantity,chai_type));\n",
    "#I ordered 2 cups of Masala chai\n",
    "\n"
   ]
  },
  {
   "cell_type": "code",
   "execution_count": 26,
   "metadata": {},
   "outputs": [
    {
     "name": "stdout",
     "output_type": "stream",
     "text": [
      "Lemon-Masala-Ginger\n"
     ]
    }
   ],
   "source": [
    "chai_variety=[\"Lemon\",\"Masala\",\"Ginger\"]\n",
    "print(\"-\".join(chai_variety))\n",
    "# chai_variety=[\"Lemon\",\"Masala\",\"Ginger\"]\n",
    "print(\"-\".join(chai_variety))"
   ]
  },
  {
   "cell_type": "code",
   "execution_count": 27,
   "metadata": {},
   "outputs": [
    {
     "name": "stdout",
     "output_type": "stream",
     "text": [
      "11\n"
     ]
    }
   ],
   "source": [
    "chai =\"Masala Chai\"\n",
    "print(len(chai))\n",
    "#11"
   ]
  },
  {
   "cell_type": "code",
   "execution_count": 28,
   "metadata": {},
   "outputs": [
    {
     "name": "stdout",
     "output_type": "stream",
     "text": [
      "M\n",
      "a\n",
      "s\n",
      "a\n",
      "l\n",
      "a\n",
      " \n",
      "C\n",
      "h\n",
      "a\n",
      "i\n"
     ]
    }
   ],
   "source": [
    "for letter in chai:\n",
    "    print(letter)\n",
    "\n",
    "    "
   ]
  },
  {
   "cell_type": "code",
   "execution_count": 30,
   "metadata": {},
   "outputs": [
    {
     "name": "stdout",
     "output_type": "stream",
     "text": [
      "He said, \"Masala Chai is awesome \" \n"
     ]
    }
   ],
   "source": [
    "chai= \"He said, \\\"Masala Chai is awesome \\\" \" #\\\" used as comment \\\" raw string\n",
    "print(chai)"
   ]
  },
  {
   "cell_type": "code",
   "execution_count": 33,
   "metadata": {},
   "outputs": [
    {
     "name": "stdout",
     "output_type": "stream",
     "text": [
      "True\n",
      "False\n"
     ]
    }
   ],
   "source": [
    "chai=\"Masala Chai\"\n",
    "print(\"Masala\" in chai )\n",
    "# true\n",
    "\n",
    "print('Masalaa' in chai)\n",
    "#false"
   ]
  }
 ],
 "metadata": {
  "kernelspec": {
   "display_name": "Python 3",
   "language": "python",
   "name": "python3"
  },
  "language_info": {
   "codemirror_mode": {
    "name": "ipython",
    "version": 3
   },
   "file_extension": ".py",
   "mimetype": "text/x-python",
   "name": "python",
   "nbconvert_exporter": "python",
   "pygments_lexer": "ipython3",
   "version": "3.13.6"
  }
 },
 "nbformat": 4,
 "nbformat_minor": 2
}
